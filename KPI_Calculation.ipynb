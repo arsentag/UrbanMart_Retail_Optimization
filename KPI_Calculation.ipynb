{
 "cells": [
  {
   "cell_type": "markdown",
   "metadata": {},
   "source": [
    "# KPI Calculation using UrbanMart with Inventory dataset"
   ]
  },
  {
   "cell_type": "code",
   "execution_count": 2,
   "metadata": {},
   "outputs": [],
   "source": [
    "import pandas as pd"
   ]
  },
  {
   "cell_type": "code",
   "execution_count": 3,
   "metadata": {},
   "outputs": [
    {
     "name": "stdout",
     "output_type": "stream",
     "text": [
      "<class 'pandas.core.frame.DataFrame'>\n",
      "RangeIndex: 9994 entries, 0 to 9993\n",
      "Data columns (total 21 columns):\n",
      " #   Column         Non-Null Count  Dtype         \n",
      "---  ------         --------------  -----         \n",
      " 0   Row_ID         9994 non-null   int64         \n",
      " 1   Order_ID       9994 non-null   object        \n",
      " 2   Order_Date     9994 non-null   datetime64[ns]\n",
      " 3   Ship_Date      9994 non-null   datetime64[ns]\n",
      " 4   Ship_Mode      9994 non-null   object        \n",
      " 5   Customer_ID    9994 non-null   object        \n",
      " 6   Customer_Name  9994 non-null   object        \n",
      " 7   Segment        9994 non-null   object        \n",
      " 8   Country        9994 non-null   object        \n",
      " 9   City           9994 non-null   object        \n",
      " 10  State          9994 non-null   object        \n",
      " 11  Postal_Code    9994 non-null   int64         \n",
      " 12  Region         9994 non-null   object        \n",
      " 13  Product_ID     9994 non-null   object        \n",
      " 14  Category       9994 non-null   object        \n",
      " 15  Sub_Category   9994 non-null   object        \n",
      " 16  Product_Name   9994 non-null   object        \n",
      " 17  Sales          9994 non-null   float64       \n",
      " 18  Quantity       9994 non-null   int64         \n",
      " 19  Discount       9994 non-null   float64       \n",
      " 20  Profit         9994 non-null   float64       \n",
      "dtypes: datetime64[ns](2), float64(3), int64(3), object(13)\n",
      "memory usage: 1.6+ MB\n"
     ]
    },
    {
     "data": {
      "text/plain": [
       "(None,\n",
       "    Row_ID        Order_ID Order_Date  Ship_Date       Ship_Mode Customer_ID  \\\n",
       " 0       1  CA-2016-152156 2016-11-08 2016-11-11    Second Class    CG-12520   \n",
       " 1       2  CA-2016-152156 2016-11-08 2016-11-11    Second Class    CG-12520   \n",
       " 2       3  CA-2016-138688 2016-06-12 2016-06-16    Second Class    DV-13045   \n",
       " 3       4  US-2015-108966 2015-10-11 2015-10-18  Standard Class    SO-20335   \n",
       " 4       5  US-2015-108966 2015-10-11 2015-10-18  Standard Class    SO-20335   \n",
       " \n",
       "      Customer_Name    Segment        Country             City  ...  \\\n",
       " 0      Claire Gute   Consumer  United States        Henderson  ...   \n",
       " 1      Claire Gute   Consumer  United States        Henderson  ...   \n",
       " 2  Darrin Van Huff  Corporate  United States      Los Angeles  ...   \n",
       " 3   Sean O'Donnell   Consumer  United States  Fort Lauderdale  ...   \n",
       " 4   Sean O'Donnell   Consumer  United States  Fort Lauderdale  ...   \n",
       " \n",
       "   Postal_Code  Region       Product_ID         Category Sub_Category  \\\n",
       " 0       42420   South  FUR-BO-10001798        Furniture    Bookcases   \n",
       " 1       42420   South  FUR-CH-10000454        Furniture       Chairs   \n",
       " 2       90036    West  OFF-LA-10000240  Office Supplies       Labels   \n",
       " 3       33311   South  FUR-TA-10000577        Furniture       Tables   \n",
       " 4       33311   South  OFF-ST-10000760  Office Supplies      Storage   \n",
       " \n",
       "                                         Product_Name     Sales  Quantity  \\\n",
       " 0                  Bush Somerset Collection Bookcase  261.9600         2   \n",
       " 1  Hon Deluxe Fabric Upholstered Stacking Chairs,...  731.9400         3   \n",
       " 2  Self-Adhesive Address Labels for Typewriters b...   14.6200         2   \n",
       " 3      Bretford CR4500 Series Slim Rectangular Table  957.5775         5   \n",
       " 4                     Eldon Fold 'N Roll Cart System   22.3680         2   \n",
       " \n",
       "    Discount    Profit  \n",
       " 0      0.00   41.9136  \n",
       " 1      0.00  219.5820  \n",
       " 2      0.00    6.8714  \n",
       " 3      0.45 -383.0310  \n",
       " 4      0.20    2.5164  \n",
       " \n",
       " [5 rows x 21 columns])"
      ]
     },
     "execution_count": 3,
     "metadata": {},
     "output_type": "execute_result"
    }
   ],
   "source": [
    "file_path = \"Superstore_Cleaned.xlsx\"\n",
    "df = pd.read_excel(file_path)\n",
    "df.info(), df.head()"
   ]
  },
  {
   "cell_type": "markdown",
   "metadata": {},
   "source": [
    "## 1. Gross Revenue (Total Sales)"
   ]
  },
  {
   "cell_type": "code",
   "execution_count": 4,
   "metadata": {},
   "outputs": [
    {
     "name": "stdout",
     "output_type": "stream",
     "text": [
      "2297200.8603000003\n"
     ]
    }
   ],
   "source": [
    "gross_revenue=df['Sales'].sum()\n",
    "print(gross_revenue)"
   ]
  },
  {
   "cell_type": "markdown",
   "metadata": {},
   "source": [
    "## 2. Total Profit"
   ]
  },
  {
   "cell_type": "code",
   "execution_count": 5,
   "metadata": {},
   "outputs": [
    {
     "name": "stdout",
     "output_type": "stream",
     "text": [
      "286397.0216999999\n"
     ]
    }
   ],
   "source": [
    "total_profit=df['Profit'].sum()\n",
    "print(total_profit)"
   ]
  },
  {
   "cell_type": "markdown",
   "metadata": {},
   "source": [
    "## 3. Profit Margin (%)"
   ]
  },
  {
   "cell_type": "code",
   "execution_count": 6,
   "metadata": {},
   "outputs": [
    {
     "name": "stdout",
     "output_type": "stream",
     "text": [
      "12.4672172403156\n"
     ]
    }
   ],
   "source": [
    "profit_margin=(total_profit/gross_revenue)*100\n",
    "print(profit_margin)"
   ]
  },
  {
   "cell_type": "markdown",
   "metadata": {},
   "source": [
    "## 4. Average Order Value (AOV)"
   ]
  },
  {
   "cell_type": "code",
   "execution_count": 7,
   "metadata": {},
   "outputs": [
    {
     "name": "stdout",
     "output_type": "stream",
     "text": [
      "458.61466566180883\n"
     ]
    }
   ],
   "source": [
    "order_sales=df.groupby('Order_ID')['Sales'].sum()\n",
    "avg_order_value=order_sales.mean()\n",
    "print(avg_order_value)"
   ]
  },
  {
   "cell_type": "markdown",
   "metadata": {},
   "source": [
    "## 5. Return Rate (if Returns data is available later)"
   ]
  },
  {
   "cell_type": "code",
   "execution_count": 9,
   "metadata": {},
   "outputs": [],
   "source": [
    "# Placeholder = None for now\n",
    "return_rate=None"
   ]
  },
  {
   "cell_type": "markdown",
   "metadata": {},
   "source": [
    "## 6. Sales per Product Category"
   ]
  },
  {
   "cell_type": "code",
   "execution_count": 10,
   "metadata": {},
   "outputs": [
    {
     "name": "stdout",
     "output_type": "stream",
     "text": [
      "Category\n",
      "Furniture          741999.7953\n",
      "Office Supplies    719047.0320\n",
      "Technology         836154.0330\n",
      "Name: Sales, dtype: float64\n"
     ]
    }
   ],
   "source": [
    "sales_by_category=df.groupby('Category')['Sales'].sum()\n",
    "print(sales_by_category)"
   ]
  },
  {
   "cell_type": "markdown",
   "metadata": {},
   "source": [
    "## KPI Summary Table"
   ]
  },
  {
   "cell_type": "code",
   "execution_count": 11,
   "metadata": {},
   "outputs": [
    {
     "data": {
      "text/html": [
       "<div>\n",
       "<style scoped>\n",
       "    .dataframe tbody tr th:only-of-type {\n",
       "        vertical-align: middle;\n",
       "    }\n",
       "\n",
       "    .dataframe tbody tr th {\n",
       "        vertical-align: top;\n",
       "    }\n",
       "\n",
       "    .dataframe thead th {\n",
       "        text-align: right;\n",
       "    }\n",
       "</style>\n",
       "<table border=\"1\" class=\"dataframe\">\n",
       "  <thead>\n",
       "    <tr style=\"text-align: right;\">\n",
       "      <th></th>\n",
       "      <th>KPI</th>\n",
       "      <th>Value</th>\n",
       "    </tr>\n",
       "  </thead>\n",
       "  <tbody>\n",
       "    <tr>\n",
       "      <th>0</th>\n",
       "      <td>Gross Revenue</td>\n",
       "      <td>$2,297,200.86</td>\n",
       "    </tr>\n",
       "    <tr>\n",
       "      <th>1</th>\n",
       "      <td>Total Profit</td>\n",
       "      <td>$286,397.02</td>\n",
       "    </tr>\n",
       "    <tr>\n",
       "      <th>2</th>\n",
       "      <td>Profit Margin (%)</td>\n",
       "      <td>12.47%</td>\n",
       "    </tr>\n",
       "    <tr>\n",
       "      <th>3</th>\n",
       "      <td>Average Order Value (AOV)</td>\n",
       "      <td>$458.61</td>\n",
       "    </tr>\n",
       "    <tr>\n",
       "      <th>4</th>\n",
       "      <td>Return Rate (N/A)</td>\n",
       "      <td>N/A</td>\n",
       "    </tr>\n",
       "  </tbody>\n",
       "</table>\n",
       "</div>"
      ],
      "text/plain": [
       "                         KPI          Value\n",
       "0              Gross Revenue  $2,297,200.86\n",
       "1               Total Profit    $286,397.02\n",
       "2          Profit Margin (%)         12.47%\n",
       "3  Average Order Value (AOV)        $458.61\n",
       "4          Return Rate (N/A)            N/A"
      ]
     },
     "execution_count": 11,
     "metadata": {},
     "output_type": "execute_result"
    }
   ],
   "source": [
    "kpi_summary=pd.DataFrame({\n",
    "    'KPI': [\n",
    "        'Gross Revenue',\n",
    "        'Total Profit',\n",
    "        'Profit Margin (%)',\n",
    "        'Average Order Value (AOV)',\n",
    "        'Return Rate (N/A)',\n",
    "    ],\n",
    "    'Value': [\n",
    "        f\"${gross_revenue:,.2f}\",\n",
    "        f\"${total_profit:,.2f}\",\n",
    "        f\"{profit_margin:.2f}%\",\n",
    "        f\"${avg_order_value:,.2f}\",\n",
    "        \"N/A\"\n",
    "    ]\n",
    "})\n",
    "kpi_summary"
   ]
  },
  {
   "cell_type": "markdown",
   "metadata": {},
   "source": [
    "### Category-Level KPI Table"
   ]
  },
  {
   "cell_type": "code",
   "execution_count": 12,
   "metadata": {},
   "outputs": [
    {
     "data": {
      "text/html": [
       "<div>\n",
       "<style scoped>\n",
       "    .dataframe tbody tr th:only-of-type {\n",
       "        vertical-align: middle;\n",
       "    }\n",
       "\n",
       "    .dataframe tbody tr th {\n",
       "        vertical-align: top;\n",
       "    }\n",
       "\n",
       "    .dataframe thead th {\n",
       "        text-align: right;\n",
       "    }\n",
       "</style>\n",
       "<table border=\"1\" class=\"dataframe\">\n",
       "  <thead>\n",
       "    <tr style=\"text-align: right;\">\n",
       "      <th></th>\n",
       "      <th>Sales</th>\n",
       "      <th>Profit</th>\n",
       "      <th>Profit_Margin_%</th>\n",
       "    </tr>\n",
       "    <tr>\n",
       "      <th>Category</th>\n",
       "      <th></th>\n",
       "      <th></th>\n",
       "      <th></th>\n",
       "    </tr>\n",
       "  </thead>\n",
       "  <tbody>\n",
       "    <tr>\n",
       "      <th>Technology</th>\n",
       "      <td>836154.0330</td>\n",
       "      <td>145454.9481</td>\n",
       "      <td>17.395712</td>\n",
       "    </tr>\n",
       "    <tr>\n",
       "      <th>Furniture</th>\n",
       "      <td>741999.7953</td>\n",
       "      <td>18451.2728</td>\n",
       "      <td>2.486695</td>\n",
       "    </tr>\n",
       "    <tr>\n",
       "      <th>Office Supplies</th>\n",
       "      <td>719047.0320</td>\n",
       "      <td>122490.8008</td>\n",
       "      <td>17.035158</td>\n",
       "    </tr>\n",
       "  </tbody>\n",
       "</table>\n",
       "</div>"
      ],
      "text/plain": [
       "                       Sales       Profit  Profit_Margin_%\n",
       "Category                                                  \n",
       "Technology       836154.0330  145454.9481        17.395712\n",
       "Furniture        741999.7953   18451.2728         2.486695\n",
       "Office Supplies  719047.0320  122490.8008        17.035158"
      ]
     },
     "execution_count": 12,
     "metadata": {},
     "output_type": "execute_result"
    }
   ],
   "source": [
    "# Category-level sales and profit\n",
    "category_kpis=df.groupby('Category')[['Sales','Profit']].sum()\n",
    "category_kpis['Profit_Margin_%']=(category_kpis['Profit']/category_kpis['Sales'])*100\n",
    "category_kpis=category_kpis.sort_values(by='Sales',ascending=False)\n",
    "category_kpis"
   ]
  },
  {
   "cell_type": "code",
   "execution_count": null,
   "metadata": {},
   "outputs": [],
   "source": []
  }
 ],
 "metadata": {
  "kernelspec": {
   "display_name": "Python 3",
   "language": "python",
   "name": "python3"
  },
  "language_info": {
   "codemirror_mode": {
    "name": "ipython",
    "version": 3
   },
   "file_extension": ".py",
   "mimetype": "text/x-python",
   "name": "python",
   "nbconvert_exporter": "python",
   "pygments_lexer": "ipython3",
   "version": "3.9.6"
  }
 },
 "nbformat": 4,
 "nbformat_minor": 2
}
